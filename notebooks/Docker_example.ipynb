{
 "cells": [
  {
   "cell_type": "code",
   "execution_count": 2,
   "metadata": {},
   "outputs": [],
   "source": [
    "# S3 prefix\n",
    "prefix = \"jj-datalake\"\n",
    "\n",
    "# Define IAM role\n",
    "import boto3\n",
    "import re\n",
    "\n",
    "import os\n",
    "import numpy as np\n",
    "import pandas as pd\n",
    "from sagemaker import get_execution_role\n",
    "\n"
   ]
  },
  {
   "cell_type": "code",
   "execution_count": 3,
   "metadata": {},
   "outputs": [],
   "source": [
    "import sagemaker as sage\n",
    "from time import gmtime, strftime\n",
    "\n",
    "sess = sage.Session()"
   ]
  },
  {
   "cell_type": "code",
   "execution_count": null,
   "metadata": {},
   "outputs": [],
   "source": [
    "WORK_DIRECTORY = \"data\"\n",
    "\n",
    "data_location = sess.upload_data(WORK_DIRECTORY, key_prefix=prefix)"
   ]
  },
  {
   "cell_type": "code",
   "execution_count": 5,
   "metadata": {},
   "outputs": [
    {
     "ename": "TypeError",
     "evalue": "argument of type 'int' is not iterable",
     "output_type": "error",
     "traceback": [
      "\u001b[1;31m---------------------------------------------------------------------------\u001b[0m",
      "\u001b[1;31mTypeError\u001b[0m                                 Traceback (most recent call last)",
      "\u001b[1;32mc:\\Users\\jjbon\\Documents\\Development\\sagemaker_ml_demo\\notebooks\\Docker_example.ipynb Cell 4\u001b[0m in \u001b[0;36m<cell line: 13>\u001b[1;34m()\u001b[0m\n\u001b[0;32m      <a href='vscode-notebook-cell:/c%3A/Users/jjbon/Documents/Development/sagemaker_ml_demo/notebooks/Docker_example.ipynb#W3sZmlsZQ%3D%3D?line=2'>3</a>\u001b[0m image \u001b[39m=\u001b[39m \u001b[39m\"\u001b[39m\u001b[39m{}\u001b[39;00m\u001b[39m.dkr.ecr.\u001b[39m\u001b[39m{}\u001b[39;00m\u001b[39m.amazonaws.com/sagemaker-processing-container:2.1.0\u001b[39m\u001b[39m\"\u001b[39m\u001b[39m.\u001b[39mformat(account, region)\n\u001b[0;32m      <a href='vscode-notebook-cell:/c%3A/Users/jjbon/Documents/Development/sagemaker_ml_demo/notebooks/Docker_example.ipynb#W3sZmlsZQ%3D%3D?line=4'>5</a>\u001b[0m tree \u001b[39m=\u001b[39m sage\u001b[39m.\u001b[39mestimator\u001b[39m.\u001b[39mEstimator(\n\u001b[0;32m      <a href='vscode-notebook-cell:/c%3A/Users/jjbon/Documents/Development/sagemaker_ml_demo/notebooks/Docker_example.ipynb#W3sZmlsZQ%3D%3D?line=5'>6</a>\u001b[0m     image,\n\u001b[0;32m      <a href='vscode-notebook-cell:/c%3A/Users/jjbon/Documents/Development/sagemaker_ml_demo/notebooks/Docker_example.ipynb#W3sZmlsZQ%3D%3D?line=6'>7</a>\u001b[0m     \u001b[39m1\u001b[39m,\n\u001b[1;32m   (...)\u001b[0m\n\u001b[0;32m     <a href='vscode-notebook-cell:/c%3A/Users/jjbon/Documents/Development/sagemaker_ml_demo/notebooks/Docker_example.ipynb#W3sZmlsZQ%3D%3D?line=9'>10</a>\u001b[0m     sagemaker_session\u001b[39m=\u001b[39msess,\n\u001b[0;32m     <a href='vscode-notebook-cell:/c%3A/Users/jjbon/Documents/Development/sagemaker_ml_demo/notebooks/Docker_example.ipynb#W3sZmlsZQ%3D%3D?line=10'>11</a>\u001b[0m )\n\u001b[1;32m---> <a href='vscode-notebook-cell:/c%3A/Users/jjbon/Documents/Development/sagemaker_ml_demo/notebooks/Docker_example.ipynb#W3sZmlsZQ%3D%3D?line=12'>13</a>\u001b[0m tree\u001b[39m.\u001b[39;49mfit()\n",
      "File \u001b[1;32mc:\\Users\\jjbon\\anaconda3\\envs\\ml_ops\\lib\\site-packages\\sagemaker\\workflow\\pipeline_context.py:248\u001b[0m, in \u001b[0;36mrunnable_by_pipeline.<locals>.wrapper\u001b[1;34m(*args, **kwargs)\u001b[0m\n\u001b[0;32m    245\u001b[0m     run_func(\u001b[39m*\u001b[39margs, \u001b[39m*\u001b[39m\u001b[39m*\u001b[39mkwargs)\n\u001b[0;32m    246\u001b[0m     \u001b[39mreturn\u001b[39;00m self_instance\u001b[39m.\u001b[39msagemaker_session\u001b[39m.\u001b[39mcontext\n\u001b[1;32m--> 248\u001b[0m \u001b[39mreturn\u001b[39;00m run_func(\u001b[39m*\u001b[39margs, \u001b[39m*\u001b[39m\u001b[39m*\u001b[39mkwargs)\n",
      "File \u001b[1;32mc:\\Users\\jjbon\\anaconda3\\envs\\ml_ops\\lib\\site-packages\\sagemaker\\estimator.py:1061\u001b[0m, in \u001b[0;36mEstimatorBase.fit\u001b[1;34m(self, inputs, wait, logs, job_name, experiment_config)\u001b[0m\n\u001b[0;32m   1003\u001b[0m \u001b[39m\"\"\"Train a model using the input training dataset.\u001b[39;00m\n\u001b[0;32m   1004\u001b[0m \n\u001b[0;32m   1005\u001b[0m \u001b[39mThe API calls the Amazon SageMaker CreateTrainingJob API to start\u001b[39;00m\n\u001b[1;32m   (...)\u001b[0m\n\u001b[0;32m   1057\u001b[0m \u001b[39m    :class:`~sagemaker.workflow.pipeline_context.PipelineSession`\u001b[39;00m\n\u001b[0;32m   1058\u001b[0m \u001b[39m\"\"\"\u001b[39;00m\n\u001b[0;32m   1059\u001b[0m \u001b[39mself\u001b[39m\u001b[39m.\u001b[39m_prepare_for_training(job_name\u001b[39m=\u001b[39mjob_name)\n\u001b[1;32m-> 1061\u001b[0m \u001b[39mself\u001b[39m\u001b[39m.\u001b[39mlatest_training_job \u001b[39m=\u001b[39m _TrainingJob\u001b[39m.\u001b[39;49mstart_new(\u001b[39mself\u001b[39;49m, inputs, experiment_config)\n\u001b[0;32m   1062\u001b[0m \u001b[39mself\u001b[39m\u001b[39m.\u001b[39mjobs\u001b[39m.\u001b[39mappend(\u001b[39mself\u001b[39m\u001b[39m.\u001b[39mlatest_training_job)\n\u001b[0;32m   1063\u001b[0m \u001b[39mif\u001b[39;00m wait:\n",
      "File \u001b[1;32mc:\\Users\\jjbon\\anaconda3\\envs\\ml_ops\\lib\\site-packages\\sagemaker\\estimator.py:1956\u001b[0m, in \u001b[0;36m_TrainingJob.start_new\u001b[1;34m(cls, estimator, inputs, experiment_config)\u001b[0m\n\u001b[0;32m   1932\u001b[0m \u001b[39m@classmethod\u001b[39m\n\u001b[0;32m   1933\u001b[0m \u001b[39mdef\u001b[39;00m \u001b[39mstart_new\u001b[39m(\u001b[39mcls\u001b[39m, estimator, inputs, experiment_config):\n\u001b[0;32m   1934\u001b[0m     \u001b[39m\"\"\"Create a new Amazon SageMaker training job from the estimator.\u001b[39;00m\n\u001b[0;32m   1935\u001b[0m \n\u001b[0;32m   1936\u001b[0m \u001b[39m    Args:\u001b[39;00m\n\u001b[1;32m   (...)\u001b[0m\n\u001b[0;32m   1954\u001b[0m \u001b[39m        all information about the started training job.\u001b[39;00m\n\u001b[0;32m   1955\u001b[0m \u001b[39m    \"\"\"\u001b[39;00m\n\u001b[1;32m-> 1956\u001b[0m     train_args \u001b[39m=\u001b[39m \u001b[39mcls\u001b[39;49m\u001b[39m.\u001b[39;49m_get_train_args(estimator, inputs, experiment_config)\n\u001b[0;32m   1958\u001b[0m     estimator\u001b[39m.\u001b[39msagemaker_session\u001b[39m.\u001b[39mtrain(\u001b[39m*\u001b[39m\u001b[39m*\u001b[39mtrain_args)\n\u001b[0;32m   1960\u001b[0m     \u001b[39mreturn\u001b[39;00m \u001b[39mcls\u001b[39m(estimator\u001b[39m.\u001b[39msagemaker_session, estimator\u001b[39m.\u001b[39m_current_job_name)\n",
      "File \u001b[1;32mc:\\Users\\jjbon\\anaconda3\\envs\\ml_ops\\lib\\site-packages\\sagemaker\\estimator.py:1997\u001b[0m, in \u001b[0;36m_TrainingJob._get_train_args\u001b[1;34m(cls, estimator, inputs, experiment_config)\u001b[0m\n\u001b[0;32m   1992\u001b[0m     \u001b[39mif\u001b[39;00m \u001b[39mnot\u001b[39;00m local_mode:\n\u001b[0;32m   1993\u001b[0m         \u001b[39mraise\u001b[39;00m \u001b[39mValueError\u001b[39;00m(\n\u001b[0;32m   1994\u001b[0m             \u001b[39m\"\u001b[39m\u001b[39mFile URIs are supported in local mode only. Please use a S3 URI instead.\u001b[39m\u001b[39m\"\u001b[39m\n\u001b[0;32m   1995\u001b[0m         )\n\u001b[1;32m-> 1997\u001b[0m config \u001b[39m=\u001b[39m _Job\u001b[39m.\u001b[39;49m_load_config(inputs, estimator)\n\u001b[0;32m   1999\u001b[0m current_hyperparameters \u001b[39m=\u001b[39m estimator\u001b[39m.\u001b[39mhyperparameters()\n\u001b[0;32m   2000\u001b[0m \u001b[39mif\u001b[39;00m current_hyperparameters \u001b[39mis\u001b[39;00m \u001b[39mnot\u001b[39;00m \u001b[39mNone\u001b[39;00m:\n",
      "File \u001b[1;32mc:\\Users\\jjbon\\anaconda3\\envs\\ml_ops\\lib\\site-packages\\sagemaker\\job.py:70\u001b[0m, in \u001b[0;36m_Job._load_config\u001b[1;34m(inputs, estimator, expand_role, validate_uri)\u001b[0m\n\u001b[0;32m     67\u001b[0m \u001b[39m\"\"\"Placeholder docstring\"\"\"\u001b[39;00m\n\u001b[0;32m     68\u001b[0m input_config \u001b[39m=\u001b[39m _Job\u001b[39m.\u001b[39m_format_inputs_to_input_config(inputs, validate_uri)\n\u001b[0;32m     69\u001b[0m role \u001b[39m=\u001b[39m (\n\u001b[1;32m---> 70\u001b[0m     estimator\u001b[39m.\u001b[39;49msagemaker_session\u001b[39m.\u001b[39;49mexpand_role(estimator\u001b[39m.\u001b[39;49mrole)\n\u001b[0;32m     71\u001b[0m     \u001b[39mif\u001b[39;00m expand_role\n\u001b[0;32m     72\u001b[0m     \u001b[39melse\u001b[39;00m estimator\u001b[39m.\u001b[39mrole\n\u001b[0;32m     73\u001b[0m )\n\u001b[0;32m     74\u001b[0m output_config \u001b[39m=\u001b[39m _Job\u001b[39m.\u001b[39m_prepare_output_config(estimator\u001b[39m.\u001b[39moutput_path, estimator\u001b[39m.\u001b[39moutput_kms_key)\n\u001b[0;32m     75\u001b[0m resource_config \u001b[39m=\u001b[39m _Job\u001b[39m.\u001b[39m_prepare_resource_config(\n\u001b[0;32m     76\u001b[0m     estimator\u001b[39m.\u001b[39minstance_count,\n\u001b[0;32m     77\u001b[0m     estimator\u001b[39m.\u001b[39minstance_type,\n\u001b[1;32m   (...)\u001b[0m\n\u001b[0;32m     80\u001b[0m     estimator\u001b[39m.\u001b[39mvolume_kms_key,\n\u001b[0;32m     81\u001b[0m )\n",
      "File \u001b[1;32mc:\\Users\\jjbon\\anaconda3\\envs\\ml_ops\\lib\\site-packages\\sagemaker\\session.py:3657\u001b[0m, in \u001b[0;36mSession.expand_role\u001b[1;34m(self, role)\u001b[0m\n\u001b[0;32m   3645\u001b[0m \u001b[39mdef\u001b[39;00m \u001b[39mexpand_role\u001b[39m(\u001b[39mself\u001b[39m, role):\n\u001b[0;32m   3646\u001b[0m     \u001b[39m\"\"\"Expand an IAM role name into an ARN.\u001b[39;00m\n\u001b[0;32m   3647\u001b[0m \n\u001b[0;32m   3648\u001b[0m \u001b[39m    If the role is already in the form of an ARN, then the role is simply returned. Otherwise\u001b[39;00m\n\u001b[1;32m   (...)\u001b[0m\n\u001b[0;32m   3655\u001b[0m \u001b[39m        str: The corresponding AWS IAM role ARN.\u001b[39;00m\n\u001b[0;32m   3656\u001b[0m \u001b[39m    \"\"\"\u001b[39;00m\n\u001b[1;32m-> 3657\u001b[0m     \u001b[39mif\u001b[39;00m \u001b[39m\"\u001b[39;49m\u001b[39m/\u001b[39;49m\u001b[39m\"\u001b[39;49m \u001b[39min\u001b[39;49;00m role:\n\u001b[0;32m   3658\u001b[0m         \u001b[39mreturn\u001b[39;00m role\n\u001b[0;32m   3659\u001b[0m     \u001b[39mreturn\u001b[39;00m \u001b[39mself\u001b[39m\u001b[39m.\u001b[39mboto_session\u001b[39m.\u001b[39mresource(\u001b[39m\"\u001b[39m\u001b[39miam\u001b[39m\u001b[39m\"\u001b[39m)\u001b[39m.\u001b[39mRole(role)\u001b[39m.\u001b[39marn\n",
      "\u001b[1;31mTypeError\u001b[0m: argument of type 'int' is not iterable"
     ]
    }
   ],
   "source": [
    "account = sess.boto_session.client(\"sts\").get_caller_identity()[\"Account\"]\n",
    "region = sess.boto_session.region_name\n",
    "image = \"{}.dkr.ecr.{}.amazonaws.com/sagemaker-processing-container:2.1.0\".format(account, region)\n",
    "\n",
    "tree = sage.estimator.Estimator(\n",
    "    image,\n",
    "    1,\n",
    "    \"ml.c4.2xlarge\",\n",
    "    output_path=\"s3://{}/output\".format(sess.default_bucket()),\n",
    "    sagemaker_session=sess,\n",
    ")\n",
    "\n",
    "tree.fit()"
   ]
  },
  {
   "cell_type": "code",
   "execution_count": null,
   "metadata": {},
   "outputs": [],
   "source": []
  }
 ],
 "metadata": {
  "kernelspec": {
   "display_name": "Python 3.9.12 ('ml_ops')",
   "language": "python",
   "name": "python3"
  },
  "language_info": {
   "codemirror_mode": {
    "name": "ipython",
    "version": 3
   },
   "file_extension": ".py",
   "mimetype": "text/x-python",
   "name": "python",
   "nbconvert_exporter": "python",
   "pygments_lexer": "ipython3",
   "version": "3.9.12"
  },
  "orig_nbformat": 4,
  "vscode": {
   "interpreter": {
    "hash": "7fd56ce9294882f5d41af9045f1d962998f35c56805db90377bebda875b461e3"
   }
  }
 },
 "nbformat": 4,
 "nbformat_minor": 2
}
