{
 "cells": [
  {
   "cell_type": "code",
   "execution_count": null,
   "metadata": {},
   "outputs": [],
   "source": [
    "import sagemaker as sage\n",
    "from time import gmtime, strftime\n",
    "\n",
    "sess = sage.Session()\n",
    "import sagemaker\n",
    "import os\n",
    "\n",
    "sess    = sagemaker.Session()\n",
    "role    = os.environ.get('SAGEMAKER_EXCECUTION_ROLE')\n",
    "account = sess.boto_session.client('sts').get_caller_identity()['Account']\n",
    "region  = sess.boto_session.region_name"
   ]
  },
  {
   "cell_type": "markdown",
   "metadata": {
    "tags": []
   },
   "source": [
    "### Common settings"
   ]
  },
  {
   "cell_type": "code",
   "execution_count": null,
   "metadata": {},
   "outputs": [],
   "source": [
    "repo_name = 'keras-tf-cpu' # ECR repository\n",
    "image_tag = 'keras-tf-cpu-py3' # ECR image tag\n",
    "base_job_name = 'keras-demo-job' # SageMaker training prefix\n",
    "\n",
    "train_instance_type = 'ml.c5.xlarge'\n",
    "cpu_count           = 1\n",
    "batch_size          = 128*cpu_count"
   ]
  },
  {
   "cell_type": "code",
   "execution_count": null,
   "metadata": {},
   "outputs": [],
   "source": [
    "#Download data into work_dir/input/data/training\n",
    "%env account {account}\n",
    "%env region {region}\n",
    "%env repo_name {repo_name}\n",
    "%env image_tag {image_tag}"
   ]
  },
  {
   "cell_type": "markdown",
   "metadata": {},
   "source": [
    "### Download Data"
   ]
  },
  {
   "cell_type": "code",
   "execution_count": null,
   "metadata": {
    "tags": []
   },
   "outputs": [],
   "source": [
    "!mkdir -p work_dir/input/data/training"
   ]
  },
  {
   "cell_type": "code",
   "execution_count": null,
   "metadata": {
    "vscode": {
     "languageId": "shellscript"
    }
   },
   "outputs": [],
   "source": [
    "%%capture\n",
    "!cd ../work_dir/input/data/training && kaggle datasets download vbookshelf/v2-plant-seedlings-dataset\n",
    "!unzip ../work_dir/input/data/training/v2-plant-seedlings-dataset.zip -d ../work_dir/input/data/training\n",
    "!rm ../work_dir/input/data/training/v2-plant-seedlings-dataset"
   ]
  },
  {
   "cell_type": "markdown",
   "metadata": {},
   "source": [
    "### Upload Data to S3"
   ]
  },
  {
   "cell_type": "code",
   "execution_count": null,
   "metadata": {
    "tags": []
   },
   "outputs": [],
   "source": [
    "import sys,os\n",
    "\n",
    "local_directory = os.path.realpath(\"../work_dir/input/data\")\n",
    "prefix          = repo_name+'/input'\n",
    "\n",
    "train_input_path      = sess.upload_data(local_directory+'/training/',      key_prefix=prefix+'/train')"
   ]
  },
  {
   "cell_type": "markdown",
   "metadata": {},
   "source": [
    "### Create repository and login"
   ]
  },
  {
   "cell_type": "code",
   "execution_count": null,
   "metadata": {},
   "outputs": [],
   "source": [
    "%%sh\n",
    "\n",
    "aws ecr describe-repositories --repository-names $repo_name > /dev/null 2>&1\n",
    "if [ $? -ne 0 ]\n",
    "then\n",
    "    aws ecr create-repository --repository-name $repo_name > /dev/null\n",
    "fi\n",
    "\n",
    "$(aws ecr get-login --region $region --no-include-email)"
   ]
  },
  {
   "cell_type": "markdown",
   "metadata": {},
   "source": [
    "## Build and tag Docker image"
   ]
  },
  {
   "cell_type": "code",
   "execution_count": null,
   "metadata": {},
   "outputs": [],
   "source": [
    "%%capture\n",
    "%cd build\n",
    "!docker build -t $image_tag .\n",
    "%cd ..    "
   ]
  },
  {
   "cell_type": "code",
   "execution_count": null,
   "metadata": {},
   "outputs": [],
   "source": [
    "!docker tag $image_tag ${account}.dkr.ecr.us-east-1.amazonaws.com/keras-tf-cpu:latest"
   ]
  },
  {
   "cell_type": "markdown",
   "metadata": {},
   "source": [
    "## Push Docker image to ECR"
   ]
  },
  {
   "cell_type": "code",
   "execution_count": null,
   "metadata": {},
   "outputs": [],
   "source": [
    "!docker push ${account}.dkr.ecr.us-east-1.amazonaws.com/keras-tf-cpu:latest"
   ]
  },
  {
   "cell_type": "code",
   "execution_count": null,
   "metadata": {
    "tags": []
   },
   "outputs": [],
   "source": [
    "output_path = 's3://{}/{}/output'.format(sess.default_bucket(), repo_name)\n",
    "image_name  = '{}.dkr.ecr.{}.amazonaws.com/{}:cpu'.format(account, region, repo_name)\n",
    "\n",
    "print(output_path)\n",
    "print(image_name)\n",
    "\n",
    "estimator = sagemaker.estimator.Estimator(\n",
    "                       image_name,\n",
    "                       base_job_name=base_job_name,\n",
    "                       role=role, \n",
    "                       train_instance_count=1, \n",
    "                       train_instance_type=train_instance_type,\n",
    "                       output_path=output_path,\n",
    "                       sagemaker_session=sess)"
   ]
  },
  {
   "cell_type": "code",
   "execution_count": null,
   "metadata": {},
   "outputs": [],
   "source": [
    "estimator.fit({'training': train_input_path})"
   ]
  },
  {
   "cell_type": "code",
   "execution_count": null,
   "metadata": {},
   "outputs": [],
   "source": [
    "endpoint_name = 'keras-poc'\n",
    "\n",
    "predictor = estimator.deploy(initial_instance_count=1, \n",
    "             instance_type='ml.m4.xlarge', \n",
    "             endpoint_name=endpoint_name)"
   ]
  },
  {
   "cell_type": "code",
   "execution_count": null,
   "metadata": {},
   "outputs": [],
   "source": [
    "sagemaker.delete_endpoint(endpoint_name=endpoint_name)"
   ]
  }
 ],
 "metadata": {
  "kernelspec": {
   "display_name": "Python 3 (ipykernel)",
   "language": "python",
   "name": "python3"
  },
  "language_info": {
   "codemirror_mode": {
    "name": "ipython",
    "version": 3
   },
   "file_extension": ".py",
   "mimetype": "text/x-python",
   "name": "python",
   "nbconvert_exporter": "python",
   "pygments_lexer": "ipython3",
   "version": "3.9.12"
  },
  "vscode": {
   "interpreter": {
    "hash": "7fd56ce9294882f5d41af9045f1d962998f35c56805db90377bebda875b461e3"
   }
  }
 },
 "nbformat": 4,
 "nbformat_minor": 4
}
